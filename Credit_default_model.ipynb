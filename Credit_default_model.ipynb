{
 "cells": [
  {
   "cell_type": "markdown",
   "metadata": {},
   "source": [
    "## Credit default model\n",
    "The purpose of this project is to create a model that is able to predict whether a loan will be defaulted based on a set of attributes of the individuals.\n",
    "\n",
    "### Summary of results"
   ]
  },
  {
   "cell_type": "markdown",
   "metadata": {},
   "source": [
    "### 0. Importing libraries and data, and general setup"
   ]
  },
  {
   "cell_type": "code",
   "execution_count": 8,
   "metadata": {},
   "outputs": [],
   "source": [
    "# Importing libraries Libraries\n",
    "import numpy as np\n",
    "import pandas as pd\n",
    "import matplotlib.pyplot as plt \n",
    "import seaborn as sns\n",
    "# Keep graphs in line\n",
    "%matplotlib inline\n",
    "# Show all columns in pandas\n",
    "pd.set_option('max_columns', None)\n",
    "# Graphing style\n",
    "plt.style.use('seaborn-colorblind')"
   ]
  },
  {
   "cell_type": "code",
   "execution_count": 5,
   "metadata": {},
   "outputs": [],
   "source": [
    "# Importing training data provided\n",
    "df_train = pd.read_csv('data/train.csv')\n",
    "# Importing testing data\n",
    "df_test = pd.read_csv('data/test.csv')"
   ]
  },
  {
   "cell_type": "markdown",
   "metadata": {},
   "source": [
    "### 1. Exploratory data analysis"
   ]
  },
  {
   "cell_type": "code",
   "execution_count": 9,
   "metadata": {},
   "outputs": [
    {
     "data": {
      "text/html": [
       "<div>\n",
       "<style scoped>\n",
       "    .dataframe tbody tr th:only-of-type {\n",
       "        vertical-align: middle;\n",
       "    }\n",
       "\n",
       "    .dataframe tbody tr th {\n",
       "        vertical-align: top;\n",
       "    }\n",
       "\n",
       "    .dataframe thead th {\n",
       "        text-align: right;\n",
       "    }\n",
       "</style>\n",
       "<table border=\"1\" class=\"dataframe\">\n",
       "  <thead>\n",
       "    <tr style=\"text-align: right;\">\n",
       "      <th></th>\n",
       "      <th>id</th>\n",
       "      <th>date_of_birth</th>\n",
       "      <th>number_dependants</th>\n",
       "      <th>credit_utilization</th>\n",
       "      <th>debt_to_income_ratio</th>\n",
       "      <th>monthly_income</th>\n",
       "      <th>number_open_credit_lines</th>\n",
       "      <th>number_open_loans</th>\n",
       "      <th>number_90_days_past_due</th>\n",
       "      <th>number_charged_off</th>\n",
       "      <th>score1</th>\n",
       "      <th>score2</th>\n",
       "      <th>target</th>\n",
       "    </tr>\n",
       "  </thead>\n",
       "  <tbody>\n",
       "    <tr>\n",
       "      <th>0</th>\n",
       "      <td>1</td>\n",
       "      <td>1993-03-14</td>\n",
       "      <td>1</td>\n",
       "      <td>0.036495</td>\n",
       "      <td>0.208897</td>\n",
       "      <td>2400</td>\n",
       "      <td>6</td>\n",
       "      <td>2</td>\n",
       "      <td>0</td>\n",
       "      <td>0</td>\n",
       "      <td>570</td>\n",
       "      <td>817</td>\n",
       "      <td>0</td>\n",
       "    </tr>\n",
       "    <tr>\n",
       "      <th>1</th>\n",
       "      <td>2</td>\n",
       "      <td>1966-09-27</td>\n",
       "      <td>1</td>\n",
       "      <td>0.023423</td>\n",
       "      <td>0.260438</td>\n",
       "      <td>2200</td>\n",
       "      <td>6</td>\n",
       "      <td>1</td>\n",
       "      <td>0</td>\n",
       "      <td>0</td>\n",
       "      <td>741</td>\n",
       "      <td>756</td>\n",
       "      <td>0</td>\n",
       "    </tr>\n",
       "    <tr>\n",
       "      <th>2</th>\n",
       "      <td>3</td>\n",
       "      <td>1931-01-11</td>\n",
       "      <td>2</td>\n",
       "      <td>0.027205</td>\n",
       "      <td>0.335922</td>\n",
       "      <td>3000</td>\n",
       "      <td>6</td>\n",
       "      <td>1</td>\n",
       "      <td>0</td>\n",
       "      <td>1</td>\n",
       "      <td>805</td>\n",
       "      <td>779</td>\n",
       "      <td>0</td>\n",
       "    </tr>\n",
       "    <tr>\n",
       "      <th>3</th>\n",
       "      <td>5</td>\n",
       "      <td>1943-11-17</td>\n",
       "      <td>0</td>\n",
       "      <td>0.068424</td>\n",
       "      <td>0.314966</td>\n",
       "      <td>2500</td>\n",
       "      <td>2</td>\n",
       "      <td>3</td>\n",
       "      <td>0</td>\n",
       "      <td>0</td>\n",
       "      <td>833</td>\n",
       "      <td>629</td>\n",
       "      <td>0</td>\n",
       "    </tr>\n",
       "    <tr>\n",
       "      <th>4</th>\n",
       "      <td>6</td>\n",
       "      <td>1994-02-03</td>\n",
       "      <td>0</td>\n",
       "      <td>0.001003</td>\n",
       "      <td>0.251700</td>\n",
       "      <td>2500</td>\n",
       "      <td>6</td>\n",
       "      <td>6</td>\n",
       "      <td>0</td>\n",
       "      <td>1</td>\n",
       "      <td>830</td>\n",
       "      <td>587</td>\n",
       "      <td>0</td>\n",
       "    </tr>\n",
       "  </tbody>\n",
       "</table>\n",
       "</div>"
      ],
      "text/plain": [
       "   id date_of_birth  number_dependants  credit_utilization  \\\n",
       "0   1    1993-03-14                  1            0.036495   \n",
       "1   2    1966-09-27                  1            0.023423   \n",
       "2   3    1931-01-11                  2            0.027205   \n",
       "3   5    1943-11-17                  0            0.068424   \n",
       "4   6    1994-02-03                  0            0.001003   \n",
       "\n",
       "   debt_to_income_ratio  monthly_income  number_open_credit_lines  \\\n",
       "0              0.208897            2400                         6   \n",
       "1              0.260438            2200                         6   \n",
       "2              0.335922            3000                         6   \n",
       "3              0.314966            2500                         2   \n",
       "4              0.251700            2500                         6   \n",
       "\n",
       "   number_open_loans  number_90_days_past_due  number_charged_off  score1  \\\n",
       "0                  2                        0                   0     570   \n",
       "1                  1                        0                   0     741   \n",
       "2                  1                        0                   1     805   \n",
       "3                  3                        0                   0     833   \n",
       "4                  6                        0                   1     830   \n",
       "\n",
       "   score2  target  \n",
       "0     817       0  \n",
       "1     756       0  \n",
       "2     779       0  \n",
       "3     629       0  \n",
       "4     587       0  "
      ]
     },
     "execution_count": 9,
     "metadata": {},
     "output_type": "execute_result"
    }
   ],
   "source": [
    "df_train.head()"
   ]
  },
  {
   "cell_type": "code",
   "execution_count": null,
   "metadata": {},
   "outputs": [],
   "source": []
  }
 ],
 "metadata": {
  "kernelspec": {
   "display_name": "Python 3.8.5 ('base')",
   "language": "python",
   "name": "python3"
  },
  "language_info": {
   "codemirror_mode": {
    "name": "ipython",
    "version": 3
   },
   "file_extension": ".py",
   "mimetype": "text/x-python",
   "name": "python",
   "nbconvert_exporter": "python",
   "pygments_lexer": "ipython3",
   "version": "3.8.5"
  },
  "orig_nbformat": 4,
  "vscode": {
   "interpreter": {
    "hash": "1d351383e3a3e9844000d51d8da6adb7ecd27d1d098cfd3c624cba52e341892c"
   }
  }
 },
 "nbformat": 4,
 "nbformat_minor": 2
}
